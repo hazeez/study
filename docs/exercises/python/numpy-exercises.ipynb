{
 "cells": [
  {
   "cell_type": "markdown",
   "metadata": {},
   "source": [
    "#### Exercise 1: NumPy: Create an array with values ranging from 12 to 38"
   ]
  },
  {
   "cell_type": "code",
   "execution_count": 1,
   "metadata": {},
   "outputs": [
    {
     "data": {
      "text/plain": [
       "array([12, 13, 14, 15, 16, 17, 18, 19, 20, 21, 22, 23, 24, 25, 26, 27, 28,\n",
       "       29, 30, 31, 32, 33, 34, 35, 36, 37])"
      ]
     },
     "execution_count": 1,
     "metadata": {},
     "output_type": "execute_result"
    }
   ],
   "source": [
    "import numpy as np\n",
    "\n",
    "num_array = np.arange(12,38,1)\n",
    "\n",
    "num_array"
   ]
  },
  {
   "cell_type": "markdown",
   "metadata": {},
   "source": [
    "#### Exercise 2: Add a border around an existing array"
   ]
  },
  {
   "cell_type": "code",
   "execution_count": 2,
   "metadata": {},
   "outputs": [
    {
     "data": {
      "text/plain": [
       "array([[0., 0., 0., 0., 0.],\n",
       "       [0., 1., 1., 1., 0.],\n",
       "       [0., 1., 1., 1., 0.],\n",
       "       [0., 1., 1., 1., 0.],\n",
       "       [0., 0., 0., 0., 0.]])"
      ]
     },
     "execution_count": 2,
     "metadata": {},
     "output_type": "execute_result"
    }
   ],
   "source": [
    "num_identity_matrix = np.ones((3,3))\n",
    "\n",
    "np.pad(num_identity_matrix, pad_width=1)"
   ]
  },
  {
   "cell_type": "markdown",
   "metadata": {},
   "source": [
    "#### Exercise 3: Convert a list and tuple into arrays"
   ]
  },
  {
   "cell_type": "code",
   "execution_count": 3,
   "metadata": {},
   "outputs": [
    {
     "name": "stdout",
     "output_type": "stream",
     "text": [
      "List to array:\n",
      "[1 2 3 4 5 6 7 8]\n",
      "Tuple to array\n",
      "[[8 4 6]\n",
      " [1 2 3]]\n"
     ]
    }
   ],
   "source": [
    "list = [1,2,3,4,5,6,7,8]\n",
    "\n",
    "print(\"List to array:\")\n",
    "print(np.array(list))\n",
    "\n",
    "tuple = (8,4,6,1,2,3)\n",
    "\n",
    "print(\"Tuple to array\")\n",
    "print(np.array(tuple).reshape(2,3))"
   ]
  },
  {
   "cell_type": "code",
   "execution_count": 4,
   "metadata": {},
   "outputs": [
    {
     "name": "stdout",
     "output_type": "stream",
     "text": [
      "[1 2 3 4 5 6 7 8]\n",
      "[[8 4 6]\n",
      " [1 2 3]]\n"
     ]
    }
   ],
   "source": [
    "#  trying np.asaray \n",
    "\n",
    "print(np.asarray(list))\n",
    "\n",
    "print(np.asarray(tuple).reshape(2,3))"
   ]
  },
  {
   "cell_type": "markdown",
   "metadata": {},
   "source": [
    "#### Exercise 4: Convert the values of Centigrade degrees into Fahrenheit degree"
   ]
  },
  {
   "cell_type": "code",
   "execution_count": 5,
   "metadata": {},
   "outputs": [
    {
     "name": "stdout",
     "output_type": "stream",
     "text": [
      "[ 0.   12.   45.21 34.   99.91]\n",
      " Values in centigrade degrees\n",
      "[-17.77777778 -11.11111111   7.33888889   1.11111111  37.72777778]\n"
     ]
    }
   ],
   "source": [
    "farh_values = [0, 12, 45.21, 34, 99.91]\n",
    "\n",
    "farh_values = np.asarray(farh_values)\n",
    "\n",
    "print(farh_values)\n",
    "\n",
    "# convert centigrade to farhenheit\n",
    "\n",
    "print(\" Values in centigrade degrees\")\n",
    "\n",
    "# (32°F − 32) × 5/9\n",
    "\n",
    "print((farh_values - 32) * (5/9))"
   ]
  },
  {
   "cell_type": "markdown",
   "metadata": {},
   "source": [
    "#### Exercise 5: Write a NumPy program to find the number of elements of an array, length of one array element in bytes and total bytes consumed by the elements."
   ]
  },
  {
   "cell_type": "code",
   "execution_count": 6,
   "metadata": {},
   "outputs": [
    {
     "name": "stdout",
     "output_type": "stream",
     "text": [
      "size of the array 3\n",
      "Length of one array element in bytes 4\n",
      "Total bytes consumed by the elements of the array 12\n"
     ]
    }
   ],
   "source": [
    "numpy_array = np.array([1,2,3])\n",
    "\n",
    "print(\"size of the array\", numpy_array.size)\n",
    "print(\"Length of one array element in bytes\", numpy_array.itemsize)\n",
    "print(\"Total bytes consumed by the elements of the array\", numpy_array.nbytes)"
   ]
  },
  {
   "cell_type": "markdown",
   "metadata": {},
   "source": [
    "#### Exercise 6: Get the unique elements of an array"
   ]
  },
  {
   "cell_type": "code",
   "execution_count": 7,
   "metadata": {},
   "outputs": [
    {
     "name": "stdout",
     "output_type": "stream",
     "text": [
      "unique elements of the above array\n",
      "[10 20 30]\n",
      "unique elements of the above 2D array\n",
      "[1 2 3]\n"
     ]
    }
   ],
   "source": [
    "numpy_orig_array = np.array([10,10,20,20,30,30])\n",
    "\n",
    "print(\"unique elements of the above array\")\n",
    "print(np.unique(numpy_orig_array))\n",
    "\n",
    "np_2d_array = np.array([[1,1],[2,3]])\n",
    "\n",
    "print(\"unique elements of the above 2D array\")\n",
    "print(np.unique(np_2d_array))"
   ]
  },
  {
   "cell_type": "markdown",
   "metadata": {},
   "source": [
    "####  Exercise 7: Change the dimension of an array"
   ]
  },
  {
   "cell_type": "code",
   "execution_count": 8,
   "metadata": {},
   "outputs": [
    {
     "name": "stdout",
     "output_type": "stream",
     "text": [
      "original array [1 2 3 4 5 6 7 8 9]\n",
      "reshaped 3 x 3 array\n",
      "[[1 2 3]\n",
      " [4 5 6]\n",
      " [7 8 9]]\n"
     ]
    }
   ],
   "source": [
    "array_1d = np.arange(1,10,1)\n",
    "\n",
    "print(\"original array\", array_1d)\n",
    "\n",
    "array_2d = array_1d.reshape(3,3)\n",
    "print(\"reshaped 3 x 3 array\")\n",
    "print(array_2d)"
   ]
  },
  {
   "cell_type": "markdown",
   "metadata": {},
   "source": [
    "#### Exercise 8: Create a 1-D array of 30 evenly spaced elements between 2.5. and 6.5, inclusive"
   ]
  },
  {
   "cell_type": "code",
   "execution_count": 9,
   "metadata": {},
   "outputs": [
    {
     "name": "stdout",
     "output_type": "stream",
     "text": [
      "[2.5        2.63793103 2.77586207 2.9137931  3.05172414 3.18965517\n",
      " 3.32758621 3.46551724 3.60344828 3.74137931 3.87931034 4.01724138\n",
      " 4.15517241 4.29310345 4.43103448 4.56896552 4.70689655 4.84482759\n",
      " 4.98275862 5.12068966 5.25862069 5.39655172 5.53448276 5.67241379\n",
      " 5.81034483 5.94827586 6.0862069  6.22413793 6.36206897 6.5       ]\n"
     ]
    }
   ],
   "source": [
    "lin_space_array = np.linspace(2.5,6.5,30)\n",
    "\n",
    "print(lin_space_array)"
   ]
  },
  {
   "cell_type": "markdown",
   "metadata": {},
   "source": [
    "#### Exercise 9: Convert 1-D arrays as columns into a 2-D array"
   ]
  },
  {
   "cell_type": "code",
   "execution_count": 10,
   "metadata": {},
   "outputs": [
    {
     "data": {
      "text/plain": [
       "array([[10, 40],\n",
       "       [20, 50],\n",
       "       [30, 60]])"
      ]
     },
     "execution_count": 10,
     "metadata": {},
     "output_type": "execute_result"
    }
   ],
   "source": [
    "arr_1 = np.array([10,20,30])\n",
    "arr_2 = np.array([40,50,60])\n",
    "\n",
    "np.column_stack([arr_1, arr_2])\n"
   ]
  },
  {
   "cell_type": "markdown",
   "metadata": {},
   "source": [
    "#### Exercise 10: Create a 5x5 matrix with row values ranging from 0 to 4"
   ]
  },
  {
   "cell_type": "code",
   "execution_count": 11,
   "metadata": {},
   "outputs": [
    {
     "name": "stdout",
     "output_type": "stream",
     "text": [
      "original array\n",
      "[[0. 0. 0. 0. 0.]\n",
      " [0. 0. 0. 0. 0.]\n",
      " [0. 0. 0. 0. 0.]\n",
      " [0. 0. 0. 0. 0.]\n",
      " [0. 0. 0. 0. 0.]]\n",
      "updated array\n",
      "[[0. 1. 2. 3. 4.]\n",
      " [0. 1. 2. 3. 4.]\n",
      " [0. 1. 2. 3. 4.]\n",
      " [0. 1. 2. 3. 4.]\n",
      " [0. 1. 2. 3. 4.]]\n"
     ]
    }
   ],
   "source": [
    "np_arr = np.zeros((5,5))\n",
    "\n",
    "print(\"original array\")\n",
    "print(np_arr)\n",
    "\n",
    "rows = 5\n",
    "cols = 5\n",
    "\n",
    "print(\"updated array\")\n",
    "for i in range(rows):\n",
    "    for j in range(cols):\n",
    "        np_arr[i,j] = j\n",
    "\n",
    "print(np_arr)"
   ]
  },
  {
   "cell_type": "markdown",
   "metadata": {},
   "source": [
    "#### Exercise 11: Sum of all the multiples of 3 or 5 below 100"
   ]
  },
  {
   "cell_type": "code",
   "execution_count": 12,
   "metadata": {},
   "outputs": [
    {
     "name": "stdout",
     "output_type": "stream",
     "text": [
      "Multiples of 3 array\n",
      "[ 3  6  9 12 15 18 21 24 27 30 33 36 39 42 45 48 51 54 57 60 63 66 69 72\n",
      " 75 78 81 84 87 90 93 96 99]\n",
      "----\n",
      "Multiples of 5 array\n",
      "[ 5 10 15 20 25 30 35 40 45 50 55 60 65 70 75 80 85 90 95]\n",
      "---\n",
      "multiples of 3 and 5 array\n",
      "[ 3  5  6  9 10 12 15 15 18 20 21 24 25 27 30 30 33 35 36 39 40 42 45 45\n",
      " 48 50 51 54 55 57 60 60 63 65 66 69 70 72 75 75 78 80 81 84 85 87 90 90\n",
      " 93 95 96 99]\n",
      "---\n",
      "sum of multiples of 3 and 5 is 2318\n"
     ]
    }
   ],
   "source": [
    "np_mul_3 = np.arange(3,100,step=3)\n",
    "print(\"Multiples of 3 array\")\n",
    "print(np_mul_3)\n",
    "print(\"----\")\n",
    "np_mul_5 = np.arange(5,100,step=5)\n",
    "print(\"Multiples of 5 array\")\n",
    "print(np_mul_5)\n",
    "\n",
    "np_mul_3_5 = np.concatenate([np_mul_3,np_mul_5])\n",
    "print(\"---\")\n",
    "print(\"multiples of 3 and 5 array\")\n",
    "print(np.sort(np_mul_3_5))\n",
    "\n",
    "print(\"---\")\n",
    "print(\"sum of multiples of 3 and 5 is\", np.sum(np.unique(np_mul_3_5)))"
   ]
  },
  {
   "cell_type": "markdown",
   "metadata": {},
   "source": [
    "#### Exercise 12: Combine a one and a two dimensional array together and display their elements"
   ]
  },
  {
   "cell_type": "code",
   "execution_count": 13,
   "metadata": {},
   "outputs": [
    {
     "name": "stdout",
     "output_type": "stream",
     "text": [
      "[0 1 2 3]\n",
      "---\n",
      "[[0 1 2 3]\n",
      " [4 5 6 7]]\n",
      "---\n",
      "0 : 0\n",
      "1 : 1\n",
      "2 : 2\n",
      "3 : 3\n",
      "0 : 4\n",
      "1 : 5\n",
      "2 : 6\n",
      "3 : 7\n"
     ]
    }
   ],
   "source": [
    "np_1d = np.arange(0,4)\n",
    "print(np_1d)\n",
    "print(\"---\")\n",
    "\n",
    "np_2d = np.arange(0,8).reshape(2,4)\n",
    "print(np_2d)\n",
    "print(\"---\")\n",
    "\n",
    "for a,b in np.nditer([np_1d,np_2d]):\n",
    "    print(a,\":\",b)"
   ]
  },
  {
   "cell_type": "markdown",
   "metadata": {},
   "source": [
    "#### Exercise 13: Write a NumPy program to replace all elements of NumPy array that are greater than specified array."
   ]
  },
  {
   "cell_type": "code",
   "execution_count": 14,
   "metadata": {},
   "outputs": [
    {
     "name": "stdout",
     "output_type": "stream",
     "text": [
      "---\n",
      "[[0.42436315 0.48558583 0.32924763]\n",
      " [0.5        0.5        0.38213418]\n",
      " [0.5        0.34528799 0.1563123 ]]\n"
     ]
    }
   ],
   "source": [
    "org_array = np.array([[0.42436315, 0.48558583, 0.32924763],\n",
    " [0.7439979,  0.58220701, 0.38213418],\n",
    " [0.5097581,  0.34528799, 0.1563123 ]])\n",
    "\n",
    "# Replace all the elements of org_array\n",
    "# condition: anything greater than 0.5, replace with .5\n",
    "\n",
    "filter_arr = org_array > 0.5\n",
    "\n",
    "org_array[filter_arr] = 0.5\n",
    "\n",
    "print(\"---\")\n",
    "\n",
    "print(org_array)"
   ]
  },
  {
   "cell_type": "markdown",
   "metadata": {},
   "source": [
    "#### Exercise 14: Add a new row to an empty numpy array"
   ]
  },
  {
   "cell_type": "code",
   "execution_count": 15,
   "metadata": {},
   "outputs": [
    {
     "name": "stdout",
     "output_type": "stream",
     "text": [
      "empty_arr\n",
      "[]\n",
      "New array:\n",
      " [[10 20 30]\n",
      " [40 50 60]]\n"
     ]
    }
   ],
   "source": [
    "empty_arr = np.empty((0,3), int)\n",
    "print(\"empty_arr\")\n",
    "print(empty_arr)\n",
    "\n",
    "first_arr = np.array([10,20,30])\n",
    "second_arr = np.array([40,50,60])\n",
    "\n",
    "empty_arr = np.append(empty_arr,[first_arr, second_arr],axis=0)\n",
    "print(\"New array:\\n\",empty_arr)"
   ]
  },
  {
   "cell_type": "markdown",
   "metadata": {},
   "source": [
    "#### Exercise 15: Write a NumPy program to join a sequence of arrays along a new axis"
   ]
  },
  {
   "cell_type": "code",
   "execution_count": 173,
   "metadata": {},
   "outputs": [
    {
     "name": "stdout",
     "output_type": "stream",
     "text": [
      "[[1 2 3]\n",
      " [2 3 4]]\n",
      "---\n",
      "[[1]\n",
      " [2]\n",
      " [3]\n",
      " [2]\n",
      " [3]\n",
      " [4]]\n"
     ]
    }
   ],
   "source": [
    "np_arr1 = np.array([1,2,3])\n",
    "np_arr2 = np.array([2,3,4])\n",
    "\n",
    "print(np.vstack([np_arr1, np_arr2]))\n",
    "print(\"---\")\n",
    "np_arr3 = np.array([[1],[2],[3]])\n",
    "np_arr4 = np.array([[2],[3],[4]])\n",
    "\n",
    "print(np.vstack([np_arr3, np_arr4]))"
   ]
  }
 ],
 "metadata": {
  "kernelspec": {
   "display_name": "Python 3",
   "language": "python",
   "name": "python3"
  },
  "language_info": {
   "codemirror_mode": {
    "name": "ipython",
    "version": 3
   },
   "file_extension": ".py",
   "mimetype": "text/x-python",
   "name": "python",
   "nbconvert_exporter": "python",
   "pygments_lexer": "ipython3",
   "version": "3.7.6"
  }
 },
 "nbformat": 4,
 "nbformat_minor": 4
}
