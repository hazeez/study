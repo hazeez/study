{
 "cells": [
  {
   "cell_type": "markdown",
   "metadata": {},
   "source": [
    "# Solutions for Exercises - Python Basics\n",
    "\n",
    "#### The solution is provided after each exercise question\n",
    "\n",
    "---\n"
   ]
  },
  {
   "cell_type": "markdown",
   "metadata": {},
   "source": [
    "## Exercise Question 1\n",
    "\n",
    "Given an input list removes the element at index 4 and add it to the 2nd position and also, at the end of the list\n",
    "\n",
    "For example: List = [54, 44, 27, 79, 91, 41]"
   ]
  },
  {
   "cell_type": "code",
   "execution_count": 1,
   "metadata": {},
   "outputs": [
    {
     "name": "stdout",
     "output_type": "stream",
     "text": [
      "Original list  [34, 54, 67, 89, 11, 43, 94]\n",
      "List After removing element at index 4  [34, 54, 67, 89, 43, 94]\n",
      "List after Adding element at index 2  [34, 54, 11, 67, 89, 43, 94]\n",
      "List after Adding element at last  [34, 54, 11, 67, 89, 43, 94, 11]\n"
     ]
    }
   ],
   "source": []
  },
  {
   "cell_type": "markdown",
   "metadata": {},
   "source": [
    "### Solution for Question 1\n",
    "\n",
    "---"
   ]
  },
  {
   "cell_type": "code",
   "execution_count": 18,
   "metadata": {},
   "outputs": [
    {
     "name": "stdout",
     "output_type": "stream",
     "text": [
      "[34, 54, 11, 67, 89, 43, 94, 11]\n"
     ]
    }
   ],
   "source": [
    "given_list = [34, 54, 67, 89, 11, 43, 94]\n",
    "\n",
    "# remove the element at index 4\n",
    "# add the removed element to the second position\n",
    "# add the removed element to the last position\n",
    "\n",
    "# first step - find the element at index 4\n",
    "\n",
    "element4 = given_list[4] # this would give the 4th element - output 11\n",
    "\n",
    "# remove the 4th element from the given_list\n",
    "\n",
    "given_list.remove(element4) # will remove 11 from the given list - output [34, 54, 67, 89, 43, 94]\n",
    "\n",
    "# second step - add the removed element to the 2nd position in the given list\n",
    "\n",
    "given_list.insert(2, element4) # will add 11 to the given list at index 2 - output [34, 54, 11, 67, 89, 43, 94]\n",
    "\n",
    "\n",
    "# third step - add the removed element to the last position\n",
    "\n",
    "given_list.append(element4) # will add 11 to the given list at the last position - output [34, 54, 11, 67, 89, 43, 94, 11]\n",
    "\n",
    "print(given_list)\n",
    "\n"
   ]
  },
  {
   "cell_type": "markdown",
   "metadata": {},
   "source": [
    "## Exercise Question 2\n",
    "\n",
    "Given a two list of equal size create a list of unique elements from both the lists into a seperate list"
   ]
  },
  {
   "cell_type": "code",
   "execution_count": 10,
   "metadata": {
    "scrolled": true
   },
   "outputs": [
    {
     "name": "stdout",
     "output_type": "stream",
     "text": [
      "First List  [2, 3, 4, 5, 6, 7, 8]\n",
      "Second List  [4, 9, 16, 25, 36, 49, 64]\n",
      "[64, 2, 3, 4, 5, 6, 7, 8, 9, 36, 16, 49, 25]\n"
     ]
    }
   ],
   "source": []
  },
  {
   "cell_type": "markdown",
   "metadata": {},
   "source": [
    "### Solution for Question 2\n",
    "\n",
    "---"
   ]
  },
  {
   "cell_type": "code",
   "execution_count": 3,
   "metadata": {},
   "outputs": [
    {
     "name": "stdout",
     "output_type": "stream",
     "text": [
      "{64, 2, 3, 4, 5, 6, 7, 8, 9, 36, 16, 49, 25}\n"
     ]
    }
   ],
   "source": [
    "# two lists are given. Need to create a list of unique elements from both the lists\n",
    "\n",
    "first_list = [2, 3, 4, 5, 6, 7, 8]\n",
    "second_list = [4, 9, 16, 25, 36, 49, 64]\n",
    "\n",
    "# python gives the ability to concatenate two lists using the + symbol\n",
    "\n",
    "consolidated_list = first_list + second_list # output = [2, 3, 4, 5, 6, 7, 8, 4, 9, 16, 25, 36, 49, 64]\n",
    "\n",
    "# since we need uniqe elements, we need to create a set out of this list as set can keep only unique elements\n",
    "# so, we need to type cast the list as set. We can use the set function to do it.\n",
    "\n",
    "unique_list = set(consolidated_list)\n",
    "\n",
    "print(unique_list)\n"
   ]
  },
  {
   "cell_type": "markdown",
   "metadata": {},
   "source": [
    "## Exercise Question 3\n",
    "\n",
    "Remove duplicate from a list and create a tuple and find the minimum and maximum number (Hint: Try Functions Min() and Max() ) "
   ]
  },
  {
   "cell_type": "code",
   "execution_count": 11,
   "metadata": {},
   "outputs": [
    {
     "name": "stdout",
     "output_type": "stream",
     "text": [
      "Original list [87, 52, 44, 53, 54, 87, 52, 53]\n",
      "unique list [44, 52, 53, 54, 87]\n",
      "tuple  (44, 52, 53, 54, 87)\n",
      "Minimum number is:  44\n",
      "Maximum number is:  87\n"
     ]
    }
   ],
   "source": []
  },
  {
   "cell_type": "markdown",
   "metadata": {},
   "source": [
    "### Solution for Question 3\n",
    "\n",
    "---"
   ]
  },
  {
   "cell_type": "code",
   "execution_count": 6,
   "metadata": {},
   "outputs": [
    {
     "name": "stdout",
     "output_type": "stream",
     "text": [
      "Minimum number is: 44\n",
      "Maximum number is: 87\n"
     ]
    }
   ],
   "source": [
    "# Remove duplicate from the given list\n",
    "# create a tuple of that unique list\n",
    "# find min number and max number of the tuple\n",
    "\n",
    "original_list = [87, 52, 44, 53, 54, 87, 52, 53]\n",
    "\n",
    "# to remove the duplicates, we can type cast to set\n",
    "\n",
    "unique_list = set(original_list) # output - {44, 52, 53, 54, 87}\n",
    "\n",
    "# create a tuple of unique list by type casting to tuple using the tuple function\n",
    "\n",
    "unique_tuple = tuple(unique_list) # output - (44, 52, 53, 54, 87)\n",
    "\n",
    "# find the maximum number from the tuple - use the max function\n",
    "\n",
    "max_number = max(unique_tuple)\n",
    "\n",
    "# find the minimum number from the tuple - use the min function\n",
    "\n",
    "min_number = min(unique_tuple)\n",
    "\n",
    "# output the values\n",
    "\n",
    "print(\"Minimum number is:\", min_number)\n",
    "print(\"Maximum number is:\", max_number)\n"
   ]
  },
  {
   "cell_type": "markdown",
   "metadata": {},
   "source": [
    "## Exercise Question 4\n",
    "\n",
    "Display the each word in the string Count the number of words in a string and display it (Including the white spaces) "
   ]
  },
  {
   "cell_type": "code",
   "execution_count": 19,
   "metadata": {},
   "outputs": [
    {
     "name": "stdout",
     "output_type": "stream",
     "text": [
      "w h a t ' s   u p ?\n"
     ]
    }
   ],
   "source": [
    "#Printing each words seperately \n",
    "a = \"what's up?\"\n",
    "print(*a)"
   ]
  },
  {
   "cell_type": "code",
   "execution_count": 18,
   "metadata": {},
   "outputs": [
    {
     "name": "stdout",
     "output_type": "stream",
     "text": [
      "The sample string: Welcome to Python\n",
      "Printing each words seperately:  W e l c o m e   t o   P y t h o n\n",
      "The Length of the string 17\n"
     ]
    }
   ],
   "source": []
  },
  {
   "cell_type": "markdown",
   "metadata": {},
   "source": [
    "### Solution for Question 4\n",
    "\n",
    "---"
   ]
  },
  {
   "cell_type": "code",
   "execution_count": 8,
   "metadata": {},
   "outputs": [
    {
     "name": "stdout",
     "output_type": "stream",
     "text": [
      "W e l c o m e   t o   P y t h o n\n",
      "The length of the string is: 17\n"
     ]
    }
   ],
   "source": [
    "# Sample string given - welcome to python\n",
    "# display each word in the string\n",
    "# count the number of words in the string\n",
    "# display the string with whitespaces\n",
    "\n",
    "sample_string = \"Welcome to Python\"\n",
    "\n",
    "# to print each letters seperately, use the * before the string\n",
    "\n",
    "print(*sample_string)\n",
    "\n",
    "# to find the length of the string, use the len function\n",
    "\n",
    "len_of_string = len(sample_string)\n",
    "\n",
    "print(\"The length of the string is:\", len_of_string)"
   ]
  },
  {
   "cell_type": "markdown",
   "metadata": {},
   "source": [
    "##  Exercise Question 5\n",
    "\n",
    "Write a Python program to access dictionary keys element by index. i.e. Use indexing methods to print the first key"
   ]
  },
  {
   "cell_type": "code",
   "execution_count": 27,
   "metadata": {},
   "outputs": [
    {
     "name": "stdout",
     "output_type": "stream",
     "text": [
      "The dictionary is:  {'physics': 80, 'math': 90, 'chemistry': 86}\n",
      "The key element accesed by index:  physics\n"
     ]
    }
   ],
   "source": []
  },
  {
   "cell_type": "markdown",
   "metadata": {},
   "source": [
    "### Solution for Question 5\n",
    "\n",
    "---"
   ]
  },
  {
   "cell_type": "code",
   "execution_count": 25,
   "metadata": {},
   "outputs": [
    {
     "name": "stdout",
     "output_type": "stream",
     "text": [
      "The key element accesed by index: physics\n"
     ]
    }
   ],
   "source": [
    "# dictionary object is given\n",
    "# Need to find the key of the first element (80)\n",
    "\n",
    "sample_dict = {'physics': 80, 'math': 90, 'chemistry': 86}\n",
    "\n",
    "# We know that the dict is a key value pair and we can get the respective keys and values using keys() and values()\n",
    "\n",
    "dict_keys = sample_dict.keys() # this would give a dict object with physics, math and chemistry\n",
    "dict_values = sample_dict.values() # this would give 80, 90 and 86\n",
    "\n",
    "# Since the object is of type dict_keys and dict_values, we need to convert it into a list using type casting\n",
    "\n",
    "key_list = list(dict_keys) # output - ['physics', 'math', 'chemistry']\n",
    "value_list = list(dict_values) # output - [80, 90, 86]\n",
    "\n",
    "# since we need to use indexing methods, we need to find the index of the first element in the dict\n",
    "\n",
    "first_element_index = value_list.index(80) # index of physics - output 0\n",
    "\n",
    "# for this index, we need to find the corresponding key\n",
    "\n",
    "first_element_key = key_list[first_element_index] # output is physics\n",
    "\n",
    "print(\"The key element accesed by index:\", first_element_key)\n",
    "\n",
    "\n",
    "\n"
   ]
  }
 ],
 "metadata": {
  "kernelspec": {
   "display_name": "Python 3",
   "language": "python",
   "name": "python3"
  },
  "language_info": {
   "codemirror_mode": {
    "name": "ipython",
    "version": 3
   },
   "file_extension": ".py",
   "mimetype": "text/x-python",
   "name": "python",
   "nbconvert_exporter": "python",
   "pygments_lexer": "ipython3",
   "version": "3.7.6"
  }
 },
 "nbformat": 4,
 "nbformat_minor": 4
}
