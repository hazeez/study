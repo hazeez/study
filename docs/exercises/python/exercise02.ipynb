{
 "cells": [
  {
   "cell_type": "markdown",
   "metadata": {},
   "source": [
    "# Solutions for Exercises - Python Basics\n",
    "\n",
    "#### The solution is provided after each exercise question\n",
    "\n",
    "---"
   ]
  },
  {
   "cell_type": "markdown",
   "metadata": {},
   "source": [
    "## Exercise Question 1\n",
    "\n",
    "Write a Python program to find those numbers which are divisible by 7 and multiple of 5, between 1500 and 2700 (both included).\n",
    "\n",
    "---"
   ]
  },
  {
   "cell_type": "markdown",
   "metadata": {},
   "source": [
    "### Solution for Question 1"
   ]
  },
  {
   "cell_type": "code",
   "execution_count": 1,
   "metadata": {},
   "outputs": [
    {
     "name": "stdout",
     "output_type": "stream",
     "text": [
      "1505\n",
      "1540\n",
      "1575\n",
      "1610\n",
      "1645\n",
      "1680\n",
      "1715\n",
      "1750\n",
      "1785\n",
      "1820\n",
      "1855\n",
      "1890\n",
      "1925\n",
      "1960\n",
      "1995\n",
      "2030\n",
      "2065\n",
      "2100\n",
      "2135\n",
      "2170\n",
      "2205\n",
      "2240\n",
      "2275\n",
      "2310\n",
      "2345\n",
      "2380\n",
      "2415\n",
      "2450\n",
      "2485\n",
      "2520\n",
      "2555\n",
      "2590\n",
      "2625\n",
      "2660\n",
      "2695\n"
     ]
    }
   ],
   "source": [
    "for i in range(1500, 2700):\n",
    "    if i % 7 == 0:\n",
    "        if i % 5 == 0:\n",
    "            print(i)"
   ]
  },
  {
   "cell_type": "markdown",
   "metadata": {},
   "source": [
    "---\n",
    "\n",
    "\n",
    "## Exercise Question 2\n",
    "\n",
    "Write a Python program to construct the following pattern, using a nested for loop.¶\n",
    "\n",
    "### Solution for Question 2"
   ]
  },
  {
   "cell_type": "code",
   "execution_count": 46,
   "metadata": {},
   "outputs": [
    {
     "name": "stdout",
     "output_type": "stream",
     "text": [
      "* \n",
      "* * \n",
      "* * * \n",
      "* * * * \n",
      "* * * * * \n",
      "* * * * \n",
      "* * * \n",
      "* * \n",
      "* \n"
     ]
    }
   ],
   "source": [
    "for i in range(1,10):\n",
    "    if i > 5:\n",
    "        for j in range(1,5):\n",
    "            print('* '* (i-(j*2)))\n",
    "            i += 1\n",
    "            continue\n",
    "        break\n",
    "    else:\n",
    "        print('* '* i)\n",
    "        "
   ]
  },
  {
   "cell_type": "markdown",
   "metadata": {},
   "source": [
    "---\n",
    "\n",
    "## Exercise Question 3\n",
    "\n",
    "Write a Python program to count the number of even and odd numbers from a series of numbers.\n",
    "\n",
    "### Solution for Question 3\n"
   ]
  },
  {
   "cell_type": "code",
   "execution_count": 54,
   "metadata": {},
   "outputs": [
    {
     "name": "stdout",
     "output_type": "stream",
     "text": [
      "Number of even numbers : 4\n",
      "Number of odd numbers : 5\n"
     ]
    }
   ],
   "source": [
    "list_odd_even = list(range(1,10))\n",
    "even_num = 0\n",
    "odd_num = 0\n",
    "\n",
    "for i in list_odd_even:\n",
    "    if i % 2 == 0:\n",
    "        even_num += 1\n",
    "    else:\n",
    "        odd_num += 1\n",
    "\n",
    "print(\"Number of even numbers :\", even_num)\n",
    "print(\"Number of odd numbers :\", odd_num)"
   ]
  },
  {
   "cell_type": "markdown",
   "metadata": {},
   "source": [
    "---\n",
    "\n",
    "## Exercise Question 4\n",
    "\n",
    "Write a Python program to find numbers between 100 and 400 (both included) where each digit of a number is an even number. The numbers obtained should be printed in a comma-separated sequence\n",
    "\n",
    "### Solution for Question 4\n",
    "\n"
   ]
  },
  {
   "cell_type": "code",
   "execution_count": 66,
   "metadata": {},
   "outputs": [
    {
     "name": "stdout",
     "output_type": "stream",
     "text": [
      "[200, 202, 204, 206, 208, 220, 222, 224, 226, 228, 240, 242, 244, 246, 248, 260, 262, 264, 266, 268, 280, 282, 284, 286, 288]\n"
     ]
    }
   ],
   "source": [
    "range_100_400 = list(range(100,400))\n",
    "list_output = []\n",
    "\n",
    "for i in range_100_400:\n",
    "    if int(str(i)[0]) % 2 == 0:\n",
    "        if int(str(i)[1]) % 2 == 0:\n",
    "            if int(str(i)[2]) % 2 == 0:\n",
    "                list_output.append(i)\n",
    "                \n",
    "print(list_output)"
   ]
  },
  {
   "cell_type": "markdown",
   "metadata": {},
   "source": [
    "--- \n",
    "\n",
    "## Exercise Question 5\n",
    "\n",
    "Write a Python program to calculate a dog's age in dog's years.\n",
    "\n",
    "Note: For the first two years, a dog year is equal to 10.5 human years. After that, each dog year equals 4 human years.\n",
    "    \n",
    "### Solution for Question 5"
   ]
  },
  {
   "cell_type": "code",
   "execution_count": 2,
   "metadata": {},
   "outputs": [
    {
     "name": "stdout",
     "output_type": "stream",
     "text": [
      "Input a dog's age in human years:20\n",
      "The dog's age in dog's years is 93\n"
     ]
    }
   ],
   "source": [
    "human_years = 0\n",
    "dog_years = 0\n",
    "dog_age_input = input(\"Input a dog's age in human years:\")\n",
    "\n",
    "if int(dog_age_input) > 2:\n",
    "    dog_years = int(dog_age_input) - 2\n",
    "    human_years += 2 * 10.5\n",
    "    human_years += dog_years * 4\n",
    "elif int(dog_age_input) < 3:\n",
    "    if int(dog_age_input) == 2:\n",
    "        human_years += 2 * 10.5\n",
    "    else:\n",
    "        human_years += 10.5\n",
    "\n",
    "print(\"The dog's age in dog's years is\", int(human_years))"
   ]
  },
  {
   "cell_type": "markdown",
   "metadata": {},
   "source": [
    "---\n",
    "\n",
    "## Exercise Question 6\n",
    "\n",
    "Write a Python function to find the Max of three numbers\n",
    "\n",
    "### Solution for Question 6"
   ]
  },
  {
   "cell_type": "code",
   "execution_count": 3,
   "metadata": {},
   "outputs": [
    {
     "data": {
      "text/plain": [
       "6"
      ]
     },
     "execution_count": 3,
     "metadata": {},
     "output_type": "execute_result"
    }
   ],
   "source": [
    "def find_max(list_of_num):\n",
    "    return max(list_of_num)\n",
    "\n",
    "find_max([3,6,-5])"
   ]
  },
  {
   "cell_type": "markdown",
   "metadata": {},
   "source": [
    "---\n",
    "\n",
    "## Exercise Question 7\n",
    "\n",
    "Write a Python function that takes a number as a parameter and check the number is prime or not\n",
    "\n",
    "### Solution for Question 7"
   ]
  },
  {
   "cell_type": "code",
   "execution_count": 5,
   "metadata": {},
   "outputs": [],
   "source": [
    "def prime(num):\n",
    "    factor = 0\n",
    "    \n",
    "    for i in range(2,num+1):\n",
    "        if num % i == 0:\n",
    "            factor += 1\n",
    "            print(i, factor)\n",
    "            if factor > 1:\n",
    "                return False\n",
    "    return True"
   ]
  },
  {
   "cell_type": "markdown",
   "metadata": {},
   "source": [
    "---\n",
    "\n",
    "## Exercise Question 8\n",
    "\n",
    "Write a Python function that accepts a string and calculate the number of upper case letters and lower case letters\n",
    "\n",
    "### Solution for Question 8"
   ]
  },
  {
   "cell_type": "code",
   "execution_count": 6,
   "metadata": {},
   "outputs": [
    {
     "name": "stdout",
     "output_type": "stream",
     "text": [
      "No of upper case characters : 13\n",
      "No of lower case characters : 32\n"
     ]
    }
   ],
   "source": [
    "def upper_lower_case_letters(input_str):\n",
    "    upper_case_letters = 0\n",
    "    lower_case_letters = 0\n",
    "    \n",
    "    for i in range(0,len(input_str)):\n",
    "        if input_str[i] != \" \":\n",
    "            if input_str[i].isupper():\n",
    "                upper_case_letters += 1\n",
    "            else:\n",
    "                lower_case_letters += 1\n",
    "    return upper_case_letters, lower_case_letters\n",
    "        \n",
    "uc, lc = upper_lower_case_letters(\"Inceptz is One of The BeSt Places TO LEarn DataSciEnce\")\n",
    "print(\"No of upper case characters :\", uc)\n",
    "print(\"No of lower case characters :\", lc)"
   ]
  },
  {
   "cell_type": "markdown",
   "metadata": {},
   "source": [
    "---\n",
    "\n",
    "## Exercise Question 9\n",
    "\n",
    "Write a Python program to reverse a string.\n",
    "\n",
    "### Solution for Question 9"
   ]
  },
  {
   "cell_type": "code",
   "execution_count": 4,
   "metadata": {},
   "outputs": [
    {
     "name": "stdout",
     "output_type": "stream",
     "text": [
      "!dlroW ,olleH\n"
     ]
    }
   ],
   "source": [
    "given_string = \"Hello, World!\"\n",
    "print(given_string[-1::-1])"
   ]
  },
  {
   "cell_type": "markdown",
   "metadata": {},
   "source": [
    "---\n",
    "\n",
    "## Exercise Question 10\n",
    "\n",
    "Write a Python program to find the greatest common divisor (gcd) of two integers.\n",
    "\n",
    "### Solution for Question 10"
   ]
  },
  {
   "cell_type": "code",
   "execution_count": 5,
   "metadata": {},
   "outputs": [
    {
     "name": "stdout",
     "output_type": "stream",
     "text": [
      "The H.C.F. is 6\n"
     ]
    }
   ],
   "source": [
    "# Python program to find H.C.F of two numbers\n",
    "\n",
    "# define a function\n",
    "def compute_hcf(x, y):\n",
    "\n",
    "# choose the smaller number\n",
    "    if x > y:\n",
    "        smaller = y\n",
    "    else:\n",
    "        smaller = x\n",
    "    for i in range(1, smaller+1):\n",
    "        if((x % i == 0) and (y % i == 0)):\n",
    "            hcf = i \n",
    "    return hcf\n",
    "\n",
    "num1 = 54 \n",
    "num2 = 24\n",
    "\n",
    "print(\"The H.C.F. is\", compute_hcf(num1, num2))"
   ]
  }
 ],
 "metadata": {
  "kernelspec": {
   "display_name": "Python 3",
   "language": "python",
   "name": "python3"
  },
  "language_info": {
   "codemirror_mode": {
    "name": "ipython",
    "version": 3
   },
   "file_extension": ".py",
   "mimetype": "text/x-python",
   "name": "python",
   "nbconvert_exporter": "python",
   "pygments_lexer": "ipython3",
   "version": "3.7.6"
  }
 },
 "nbformat": 4,
 "nbformat_minor": 4
}
